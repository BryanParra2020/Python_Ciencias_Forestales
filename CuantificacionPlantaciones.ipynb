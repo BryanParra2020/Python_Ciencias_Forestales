{
 "cells": [
  {
   "cell_type": "markdown",
   "metadata": {},
   "source": [
    "# Import the require libraries and images"
   ]
  },
  {
   "cell_type": "code",
   "execution_count": null,
   "metadata": {},
   "outputs": [],
   "source": [
    "%matplotlib notebook\n",
    "import numpy as np\n",
    "import matplotlib.pyplot as plt\n",
    "from skimage.feature import match_template\n",
    "from PIL import Image\n",
    "\n",
    "ImagenTotal = np.asarray(Image.open(\"OlivoTotal.png\"))"
   ]
  },
  {
   "cell_type": "markdown",
   "metadata": {},
   "source": [
    "# Interactive selection of points"
   ]
  },
  {
   "cell_type": "code",
   "execution_count": null,
   "metadata": {},
   "outputs": [],
   "source": [
    "#define empty cells \n",
    "puntosinteres = []\n",
    "\n",
    "fig = plt.figure(figsize=(9, 6))\n",
    "ax = fig.add_subplot(111)\n",
    "ax.imshow(ImagenTotal, cmap=plt.cm.gray)\n",
    "text=ax.text(0,0, \"\", va=\"bottom\", ha=\"left\")\n",
    "\n",
    "#interactive function that stores points clicked on the image\n",
    "def onclick(event):\n",
    "    tx = 'button=%d, x=%d, y=%d, xdata=%f, ydata=%f' % (event.button, event.x, event.y, event.xdata, event.ydata)\n",
    "    text.set_text(tx)\n",
    "    puntosinteres.append([event.xdata, event.ydata])\n",
    "\n",
    "cid = fig.canvas.mpl_connect('button_press_event', onclick)"
   ]
  },
  {
   "cell_type": "code",
   "execution_count": null,
   "metadata": {},
   "outputs": [],
   "source": [
    "# amount of points clicked\n",
    "len(puntosinteres)"
   ]
  },
  {
   "cell_type": "code",
   "execution_count": null,
   "metadata": {},
   "outputs": [],
   "source": [
    "#plot points over the image and select more if you want\n",
    "fig = plt.figure(figsize=(10, 6))\n",
    "ax = fig.add_subplot(111)\n",
    "ax.imshow(ImagenTotal, cmap=plt.cm.gray)\n",
    "ax.scatter([x[0] for x in puntosinteres],[y[1] for y in puntosinteres],c='red', marker='+', s=8)\n",
    "text=ax.text(0,0, \"\", va=\"bottom\", ha=\"left\")\n",
    "\n",
    "def onclick(event):\n",
    "    tx = 'button=%d, x=%d, y=%d, xdata=%f, ydata=%f' % (event.button, event.x, event.y, event.xdata, event.ydata)\n",
    "    text.set_text(tx)\n",
    "    puntosinteres.append([event.xdata, event.ydata])\n",
    "\n",
    "cid = fig.canvas.mpl_connect('button_press_event', onclick)"
   ]
  },
  {
   "cell_type": "code",
   "execution_count": null,
   "metadata": {},
   "outputs": [],
   "source": [
    "#show all the points of interest, please be careful to have a complete image, otherwise the model wont run\n",
    "fig, ax = plt.subplots(len(puntosinteres)//6+1, 6)\n",
    "i = 0\n",
    "for item in puntosinteres:\n",
    "    xinteres = int(item[0])\n",
    "    yinteres = int(item[1])\n",
    "    radio = 20\n",
    "    ax[i//6,i-i//6*6].imshow(ImagenTotal)\n",
    "    ax[i//6,i-i//6*6].plot(xinteres,yinteres,color='red', linestyle='dashed', marker='+',\n",
    "     markerfacecolor='blue', markersize=8)\n",
    "    ax[i//6,i-i//6*6].set_xlim(xinteres-radio,xinteres+radio)\n",
    "    ax[i//6,i-i//6*6].set_ylim(yinteres-radio,yinteres+radio)\n",
    "    ax[i//6,i-i//6*6].axis('off')\n",
    "    ax[i//6,i-i//6*6].set_title(i)\n",
    "    i+=1"
   ]
  },
  {
   "cell_type": "code",
   "execution_count": null,
   "metadata": {},
   "outputs": [],
   "source": [
    "#in case you have a wrong point or a incomplete image please uncomment the following line with the point index to delete it\n",
    "#del puntosinteres[17]\n",
    "#len(puntosinteres)"
   ]
  },
  {
   "cell_type": "markdown",
   "metadata": {},
   "source": [
    "# Match the image to the template"
   ]
  },
  {
   "cell_type": "code",
   "execution_count": null,
   "metadata": {},
   "outputs": [],
   "source": [
    "listaresultados = []\n",
    "for punto in puntosinteres:\n",
    "    xinteres = int(punto[0])\n",
    "    yinteres = int(punto[1])\n",
    "    radio=10\n",
    "    imagenband = ImagenTotal[:,:,0]\n",
    "    templateband = ImagenTotal[yinteres-radio:yinteres+radio,xinteres-radio:xinteres+radio,0]\n",
    "    result= match_template(imagenband, templateband)\n",
    "    result = np.where(result>0.86)\n",
    "    listaresultados.append(result)"
   ]
  },
  {
   "cell_type": "markdown",
   "metadata": {},
   "source": [
    "# Plot interpreted points over the image"
   ]
  },
  {
   "cell_type": "code",
   "execution_count": null,
   "metadata": {},
   "outputs": [],
   "source": [
    "from itertools import cycle\n",
    "cycol = cycle('bgrcmk')\n",
    "\n",
    "fig = plt.figure(figsize=(10, 8))\n",
    "ax = fig.add_subplot(111)\n",
    " \n",
    "i = 1\n",
    "for lista in listaresultados:\n",
    "    ax.plot(lista[1],lista[0], '.', linewidth=0, markerfacecolor=next(cycol), label=i)\n",
    "    i+=1\n",
    "ax.legend(loc='upper center', bbox_to_anchor=(0.5, -0.05),\n",
    "          fancybox=True, shadow=True, ncol=5)\n",
    "ax.imshow(ImagenTotal[radio:-radio,radio:-radio,:])"
   ]
  },
  {
   "cell_type": "markdown",
   "metadata": {},
   "source": [
    "# Cluster analisys with Birch algorithm"
   ]
  },
  {
   "cell_type": "code",
   "execution_count": null,
   "metadata": {},
   "outputs": [],
   "source": [
    "datalist = [np.asarray(pares).T for pares in listaresultados]\n",
    "print(len(datalist))\n",
    "datalist = np.vstack(datalist)\n",
    "print(datalist)"
   ]
  },
  {
   "cell_type": "code",
   "execution_count": null,
   "metadata": {},
   "outputs": [],
   "source": [
    "from sklearn.cluster import Birch\n",
    "brc = Birch(branching_factor=10000, n_clusters=None, threshold=9, compute_labels=True)\n",
    "brc.fit(datalist)\n",
    "puntosbirch = brc.subcluster_centers_\n",
    "fig = plt.figure(figsize=(10, 8))\n",
    "ax = fig.add_subplot(111)\n",
    "ax.scatter(puntosbirch[:,[1]],puntosbirch[:,[0]], marker='+',color='red')\n",
    "ax.imshow(ImagenTotal[radio:-radio,radio:-radio,:])"
   ]
  },
  {
   "cell_type": "code",
   "execution_count": null,
   "metadata": {},
   "outputs": [],
   "source": [
    "len(puntosbirch)"
   ]
  }
 ],
 "metadata": {
  "celltoolbar": "Raw Cell Format",
  "kernelspec": {
   "display_name": "Python 3",
   "language": "python",
   "name": "python3"
  },
  "language_info": {
   "codemirror_mode": {
    "name": "ipython",
    "version": 3
   },
   "file_extension": ".py",
   "mimetype": "text/x-python",
   "name": "python",
   "nbconvert_exporter": "python",
   "pygments_lexer": "ipython3",
   "version": "3.7.3"
  }
 },
 "nbformat": 4,
 "nbformat_minor": 2
}
