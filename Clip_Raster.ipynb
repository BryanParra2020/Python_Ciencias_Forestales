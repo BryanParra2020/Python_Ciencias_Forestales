{
  "nbformat": 4,
  "nbformat_minor": 0,
  "metadata": {
    "colab": {
      "provenance": [],
      "authorship_tag": "ABX9TyNxoGj52V88RGJQWQi7yEvw",
      "include_colab_link": true
    },
    "kernelspec": {
      "name": "python3",
      "display_name": "Python 3"
    },
    "language_info": {
      "name": "python"
    }
  },
  "cells": [
    {
      "cell_type": "markdown",
      "metadata": {
        "id": "view-in-github",
        "colab_type": "text"
      },
      "source": [
        "<a href=\"https://colab.research.google.com/github/BryanParra2020/Python_Ciencias_Forestales/blob/master/Clip_Raster.ipynb\" target=\"_parent\"><img src=\"https://colab.research.google.com/assets/colab-badge.svg\" alt=\"Open In Colab\"/></a>"
      ]
    },
    {
      "cell_type": "code",
      "source": [
        "#install required libraries\n",
        "!pip install rasterio\n",
        "!pip install fiona"
      ],
      "metadata": {
        "id": "a-LCE3OGi4Q6"
      },
      "execution_count": null,
      "outputs": []
    },
    {
      "cell_type": "code",
      "execution_count": null,
      "metadata": {
        "id": "Tnxv74mNiU6V"
      },
      "outputs": [],
      "source": [
        "#import required libraries\n",
        "%matplotlib inline\n",
        "import os\n",
        "import fiona\n",
        "import rasterio\n",
        "from rasterio import plot\n",
        "import matplotlib.pyplot as plt\n",
        "from rasterio.mask import mask\n",
        "from rasterio.plot import show\n",
        "import matplotlib.pyplot as plt\n",
        "import seaborn as sns\n",
        "sns.set () #mejorar un poco la estetica de las graficas"
      ]
    },
    {
      "cell_type": "code",
      "source": [
        "#Conectar colab con drive de archivos  procesar\n",
        "from google.colab import drive\n",
        "drive.mount('/content/drive')"
      ],
      "metadata": {
        "id": "ecIhvJn3j4Vd"
      },
      "execution_count": null,
      "outputs": []
    },
    {
      "cell_type": "code",
      "source": [
        "#Ruta peinobioma\n",
        "path_tiff = '/content/drive/MyDrive/Google_colab/SIG/MADS/ZONOBIOMA/zht.tif'\n",
        "pb = rasterio.open(path_tiff)"
      ],
      "metadata": {
        "id": "ewi9YmTkj4SP"
      },
      "execution_count": null,
      "outputs": []
    },
    {
      "cell_type": "code",
      "source": [
        "#properties of image in a list\n",
        "\n",
        "prop = [pb.count, pb.height, pb.width,\n",
        "       pb.dtypes, pb.crs, pb.transform]\n",
        "\n",
        "#Iterar sobre los índices de esta secuencia en la lista\n",
        "\n",
        "for i in range (len (prop)):\n",
        "    print (i, prop [i])"
      ],
      "metadata": {
        "id": "SQ3LPZaej4Md"
      },
      "execution_count": null,
      "outputs": []
    },
    {
      "cell_type": "code",
      "source": [
        "#Plotear la imagen\n",
        "pb = rasterio.open(path_tiff)\n",
        "fig = plt.figure (figsize = (18, 6))\n",
        "plot.show (pb,\n",
        "           cmap = 'hsv',\n",
        "           title = 'Multicriterio - Zonobioma HT/Regional Orinoquia')"
      ],
      "metadata": {
        "id": "7As_A0dQj4Yv"
      },
      "execution_count": null,
      "outputs": []
    },
    {
      "cell_type": "code",
      "source": [
        "#Abrir archivo shapefile\n",
        "aoiFile = fiona.open('/content/drive/MyDrive/Google_colab/SIG/MADS/ZONOBIOMA/Zonobioma.shp')\n",
        "aoiGeom = [aoiFile[0]['geometry']]"
      ],
      "metadata": {
        "id": "j3seZ7tfj4Pc"
      },
      "execution_count": null,
      "outputs": []
    },
    {
      "cell_type": "code",
      "source": [
        "# prompt: cortar el raster pb con respcto al shapefile aoiGeom\n",
        "\n",
        "# Cortar el raster con respecto al shapefile\n",
        "out_image, out_transform = mask(dataset=pb, shapes=aoiGeom, crop=True)\n",
        "\n",
        "# Actualizar el metadato\n",
        "out_meta = pb.meta.copy()\n",
        "out_meta.update({\"driver\": \"GTiff\",\n",
        "                 \"height\": out_image.shape[1],\n",
        "                 \"width\": out_image.shape[2],\n",
        "                 \"transform\": out_transform})"
      ],
      "metadata": {
        "id": "A6i9T6aGyWGI"
      },
      "execution_count": null,
      "outputs": []
    },
    {
      "cell_type": "code",
      "source": [
        "# Guardar el raster cortado\n",
        "with rasterio.open(\"/content/drive/MyDrive/Google_colab/SIG/MADS/ZONOBIOMA/zht_recortado.tif\", \"w\", **out_meta) as dest:\n",
        "    dest.write(out_image)"
      ],
      "metadata": {
        "id": "_TpfPauUyWJZ"
      },
      "execution_count": null,
      "outputs": []
    },
    {
      "cell_type": "code",
      "source": [
        "# Mostrar el raster cortado\n",
        "pb_recortado = rasterio.open('/content/drive/MyDrive/Google_colab/SIG/MADS/ZONOBIOMA/zht_recortado.tif')\n",
        "fig = plt.figure(figsize=(18, 6))\n",
        "plot.show(pb_recortado,\n",
        "           cmap='hsv',\n",
        "           title='Multicriterio - Zonobioma HT/Regional Orinoquia')"
      ],
      "metadata": {
        "id": "h1pfn0GoyWMp"
      },
      "execution_count": null,
      "outputs": []
    }
  ]
}