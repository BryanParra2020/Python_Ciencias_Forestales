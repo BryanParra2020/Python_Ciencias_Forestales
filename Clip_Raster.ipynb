{
  "nbformat": 4,
  "nbformat_minor": 0,
  "metadata": {
    "colab": {
      "provenance": [],
      "authorship_tag": "ABX9TyNxoGj52V88RGJQWQi7yEvw",
      "include_colab_link": true
    },
    "kernelspec": {
      "name": "python3",
      "display_name": "Python 3"
    },
    "language_info": {
      "name": "python"
    }
  },
  "cells": [
    {
      "cell_type": "markdown",
      "metadata": {
        "id": "view-in-github",
        "colab_type": "text"
      },
      "source": [
        "<a href=\"https://colab.research.google.com/github/BryanParra2020/Python_Ciencias_Forestales/blob/master/Clip_Raster.ipynb\" target=\"_parent\"><img src=\"https://colab.research.google.com/assets/colab-badge.svg\" alt=\"Open In Colab\"/></a>"
      ]
    },
    {
      "cell_type": "code",
      "source": [
        "#install required libraries\n",
        "!pip install rasterio\n",
        "!pip install fiona"
      ],
      "metadata": {
        "id": "a-LCE3OGi4Q6",
        "colab": {
          "base_uri": "https://localhost:8080/"
        },
        "outputId": "d241edc3-0bd0-44e2-cff0-b784b72c4d1b"
      },
      "execution_count": 1,
      "outputs": [
        {
          "output_type": "stream",
          "name": "stdout",
          "text": [
            "Collecting rasterio\n",
            "  Downloading rasterio-1.4.3-cp311-cp311-manylinux_2_17_x86_64.manylinux2014_x86_64.whl.metadata (9.1 kB)\n",
            "Collecting affine (from rasterio)\n",
            "  Downloading affine-2.4.0-py3-none-any.whl.metadata (4.0 kB)\n",
            "Requirement already satisfied: attrs in /usr/local/lib/python3.11/dist-packages (from rasterio) (25.1.0)\n",
            "Requirement already satisfied: certifi in /usr/local/lib/python3.11/dist-packages (from rasterio) (2025.1.31)\n",
            "Requirement already satisfied: click>=4.0 in /usr/local/lib/python3.11/dist-packages (from rasterio) (8.1.8)\n",
            "Collecting cligj>=0.5 (from rasterio)\n",
            "  Downloading cligj-0.7.2-py3-none-any.whl.metadata (5.0 kB)\n",
            "Requirement already satisfied: numpy>=1.24 in /usr/local/lib/python3.11/dist-packages (from rasterio) (1.26.4)\n",
            "Collecting click-plugins (from rasterio)\n",
            "  Downloading click_plugins-1.1.1-py2.py3-none-any.whl.metadata (6.4 kB)\n",
            "Requirement already satisfied: pyparsing in /usr/local/lib/python3.11/dist-packages (from rasterio) (3.2.1)\n",
            "Downloading rasterio-1.4.3-cp311-cp311-manylinux_2_17_x86_64.manylinux2014_x86_64.whl (22.2 MB)\n",
            "\u001b[2K   \u001b[90m━━━━━━━━━━━━━━━━━━━━━━━━━━━━━━━━━━━━━━━━\u001b[0m \u001b[32m22.2/22.2 MB\u001b[0m \u001b[31m10.6 MB/s\u001b[0m eta \u001b[36m0:00:00\u001b[0m\n",
            "\u001b[?25hDownloading cligj-0.7.2-py3-none-any.whl (7.1 kB)\n",
            "Downloading affine-2.4.0-py3-none-any.whl (15 kB)\n",
            "Downloading click_plugins-1.1.1-py2.py3-none-any.whl (7.5 kB)\n",
            "Installing collected packages: cligj, click-plugins, affine, rasterio\n",
            "Successfully installed affine-2.4.0 click-plugins-1.1.1 cligj-0.7.2 rasterio-1.4.3\n",
            "Collecting fiona\n",
            "  Downloading fiona-1.10.1-cp311-cp311-manylinux_2_17_x86_64.manylinux2014_x86_64.whl.metadata (56 kB)\n",
            "\u001b[2K     \u001b[90m━━━━━━━━━━━━━━━━━━━━━━━━━━━━━━━━━━━━━━━━\u001b[0m \u001b[32m56.6/56.6 kB\u001b[0m \u001b[31m2.0 MB/s\u001b[0m eta \u001b[36m0:00:00\u001b[0m\n",
            "\u001b[?25hRequirement already satisfied: attrs>=19.2.0 in /usr/local/lib/python3.11/dist-packages (from fiona) (25.1.0)\n",
            "Requirement already satisfied: certifi in /usr/local/lib/python3.11/dist-packages (from fiona) (2025.1.31)\n",
            "Requirement already satisfied: click~=8.0 in /usr/local/lib/python3.11/dist-packages (from fiona) (8.1.8)\n",
            "Requirement already satisfied: click-plugins>=1.0 in /usr/local/lib/python3.11/dist-packages (from fiona) (1.1.1)\n",
            "Requirement already satisfied: cligj>=0.5 in /usr/local/lib/python3.11/dist-packages (from fiona) (0.7.2)\n",
            "Downloading fiona-1.10.1-cp311-cp311-manylinux_2_17_x86_64.manylinux2014_x86_64.whl (17.3 MB)\n",
            "\u001b[2K   \u001b[90m━━━━━━━━━━━━━━━━━━━━━━━━━━━━━━━━━━━━━━━━\u001b[0m \u001b[32m17.3/17.3 MB\u001b[0m \u001b[31m43.6 MB/s\u001b[0m eta \u001b[36m0:00:00\u001b[0m\n",
            "\u001b[?25hInstalling collected packages: fiona\n",
            "Successfully installed fiona-1.10.1\n"
          ]
        }
      ]
    },
    {
      "cell_type": "code",
      "execution_count": 1,
      "metadata": {
        "id": "Tnxv74mNiU6V"
      },
      "outputs": [],
      "source": [
        "#import required libraries\n",
        "%matplotlib inline\n",
        "import os\n",
        "import fiona\n",
        "import rasterio\n",
        "from rasterio import plot\n",
        "import matplotlib.pyplot as plt\n",
        "from rasterio.mask import mask\n",
        "from rasterio.plot import show\n",
        "import matplotlib.pyplot as plt\n",
        "import seaborn as sns\n",
        "sns.set () #mejorar un poco la estetica de las graficas"
      ]
    },
    {
      "cell_type": "code",
      "source": [
        "#Conectar colab con drive de archivos  procesar\n",
        "from google.colab import drive\n",
        "drive.mount('/content/drive')"
      ],
      "metadata": {
        "id": "ecIhvJn3j4Vd",
        "colab": {
          "base_uri": "https://localhost:8080/"
        },
        "outputId": "2e3ad5cc-af75-47cc-e363-c996ed6f91bb"
      },
      "execution_count": 2,
      "outputs": [
        {
          "output_type": "stream",
          "name": "stdout",
          "text": [
            "Drive already mounted at /content/drive; to attempt to forcibly remount, call drive.mount(\"/content/drive\", force_remount=True).\n"
          ]
        }
      ]
    },
    {
      "cell_type": "code",
      "source": [
        "#Ruta peinobioma\n",
        "path_tiff = '/content/drive/MyDrive/Google_colab/SIG/MADS/ZONOBIOMA/zht.tif'\n",
        "pb = rasterio.open(path_tiff)"
      ],
      "metadata": {
        "id": "ewi9YmTkj4SP"
      },
      "execution_count": 3,
      "outputs": []
    },
    {
      "cell_type": "code",
      "source": [
        "#properties of image in a list\n",
        "\n",
        "prop = [pb.count, pb.height, pb.width,\n",
        "       pb.dtypes, pb.crs, pb.transform]\n",
        "\n",
        "#Iterar sobre los índices de esta secuencia en la lista\n",
        "\n",
        "for i in range (len (prop)):\n",
        "    print (i, prop [i])"
      ],
      "metadata": {
        "id": "SQ3LPZaej4Md",
        "colab": {
          "base_uri": "https://localhost:8080/"
        },
        "outputId": "0998b281-8a9a-49a5-c304-3f5795c97530"
      },
      "execution_count": 4,
      "outputs": [
        {
          "output_type": "stream",
          "name": "stdout",
          "text": [
            "0 1\n",
            "1 20271\n",
            "2 27628\n",
            "3 ('float32',)\n",
            "4 ESRI:103599\n",
            "5 | 30.00, 0.00, 4788992.44|\n",
            "| 0.00,-30.00, 2343451.61|\n",
            "| 0.00, 0.00, 1.00|\n"
          ]
        }
      ]
    },
    {
      "cell_type": "code",
      "source": [
        "#Plotear la imagen\n",
        "pb = rasterio.open(path_tiff)\n",
        "fig = plt.figure (figsize = (18, 6))\n",
        "plot.show (pb,\n",
        "           cmap = 'hsv',\n",
        "           title = 'Multicriterio - Zonobioma HT/Regional Orinoquia')"
      ],
      "metadata": {
        "id": "7As_A0dQj4Yv",
        "colab": {
          "base_uri": "https://localhost:8080/"
        },
        "outputId": "02611835-6137-4183-9229-d3c50219bc9e"
      },
      "execution_count": null,
      "outputs": [
        {
          "output_type": "stream",
          "name": "stderr",
          "text": [
            "/usr/local/lib/python3.11/dist-packages/matplotlib/colors.py:777: RuntimeWarning: overflow encountered in multiply\n",
            "  xa *= self.N\n"
          ]
        }
      ]
    },
    {
      "cell_type": "code",
      "source": [
        "#Abrir archivo shapefile\n",
        "aoiFile = fiona.open('/content/drive/MyDrive/Google_colab/SIG/MADS/ZONOBIOMA/Zonobioma.shp')\n",
        "aoiGeom = [aoiFile[0]['geometry']]"
      ],
      "metadata": {
        "id": "j3seZ7tfj4Pc"
      },
      "execution_count": null,
      "outputs": []
    },
    {
      "cell_type": "code",
      "source": [
        "# prompt: cortar el raster pb con respcto al shapefile aoiGeom\n",
        "\n",
        "# Cortar el raster con respecto al shapefile\n",
        "out_image, out_transform = mask(dataset=pb, shapes=aoiGeom, crop=True)\n",
        "\n",
        "# Actualizar el metadato\n",
        "out_meta = pb.meta.copy()\n",
        "out_meta.update({\"driver\": \"GTiff\",\n",
        "                 \"height\": out_image.shape[1],\n",
        "                 \"width\": out_image.shape[2],\n",
        "                 \"transform\": out_transform})"
      ],
      "metadata": {
        "id": "A6i9T6aGyWGI"
      },
      "execution_count": null,
      "outputs": []
    },
    {
      "cell_type": "code",
      "source": [
        "# Guardar el raster cortado\n",
        "with rasterio.open(\"/content/drive/MyDrive/Google_colab/SIG/MADS/ZONOBIOMA/zht_recortado.tif\", \"w\", **out_meta) as dest:\n",
        "    dest.write(out_image)"
      ],
      "metadata": {
        "id": "_TpfPauUyWJZ"
      },
      "execution_count": null,
      "outputs": []
    },
    {
      "cell_type": "code",
      "source": [
        "# Mostrar el raster cortado\n",
        "pb_recortado = rasterio.open('/content/drive/MyDrive/Google_colab/SIG/MADS/ZONOBIOMA/zht_recortado.tif')\n",
        "fig = plt.figure(figsize=(18, 6))\n",
        "plot.show(pb_recortado,\n",
        "           cmap='hsv',\n",
        "           title='Multicriterio - Zonobioma HT/Regional Orinoquia')"
      ],
      "metadata": {
        "id": "h1pfn0GoyWMp"
      },
      "execution_count": null,
      "outputs": []
    }
  ]
}